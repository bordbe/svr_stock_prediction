{
 "cells": [
  {
   "cell_type": "code",
   "execution_count": 29,
   "id": "79510dc2",
   "metadata": {},
   "outputs": [],
   "source": [
    "lags = 10"
   ]
  },
  {
   "cell_type": "code",
   "execution_count": 30,
   "id": "3d15b60d",
   "metadata": {},
   "outputs": [],
   "source": [
    "weights = list(reversed(range(1, lags+1)))"
   ]
  },
  {
   "cell_type": "code",
   "execution_count": 31,
   "id": "bfcaba4e",
   "metadata": {},
   "outputs": [
    {
     "data": {
      "text/plain": [
       "10"
      ]
     },
     "execution_count": 31,
     "metadata": {},
     "output_type": "execute_result"
    }
   ],
   "source": [
    "len(weights)"
   ]
  },
  {
   "cell_type": "code",
   "execution_count": 34,
   "id": "88e430bb",
   "metadata": {},
   "outputs": [],
   "source": [
    "data = [1.1, 0.9, 1.0, 1.05, 1.2, 1.15, 1.3, 1.0, 1.1, 1.15]"
   ]
  },
  {
   "cell_type": "code",
   "execution_count": 35,
   "id": "415dae28",
   "metadata": {},
   "outputs": [
    {
     "data": {
      "text/plain": [
       "10"
      ]
     },
     "execution_count": 35,
     "metadata": {},
     "output_type": "execute_result"
    }
   ],
   "source": [
    "len(data)"
   ]
  },
  {
   "cell_type": "code",
   "execution_count": 37,
   "id": "ad15da77",
   "metadata": {},
   "outputs": [
    {
     "data": {
      "text/plain": [
       "1.071818181818182"
      ]
     },
     "execution_count": 37,
     "metadata": {},
     "output_type": "execute_result"
    }
   ],
   "source": [
    " sum([x*y for x,y in zip(data,weights)])/(lags*(lags+1)/2)"
   ]
  },
  {
   "cell_type": "code",
   "execution_count": 57,
   "id": "80982141",
   "metadata": {},
   "outputs": [],
   "source": [
    "diff = list(map(operator.sub, data[1:], data[:-1]))"
   ]
  },
  {
   "cell_type": "code",
   "execution_count": 64,
   "id": "80f0f8f4",
   "metadata": {},
   "outputs": [],
   "source": [
    "ups = list(map(lambda x: max(x,0),diff))\n",
    "downs = list(map(lambda x: min(x, 0), diff))"
   ]
  },
  {
   "cell_type": "code",
   "execution_count": 66,
   "id": "e853747c",
   "metadata": {},
   "outputs": [
    {
     "data": {
      "text/plain": [
       "[-0.20000000000000007,\n",
       " 0,\n",
       " 0,\n",
       " 0,\n",
       " -0.050000000000000044,\n",
       " 0,\n",
       " -0.30000000000000004,\n",
       " 0,\n",
       " 0]"
      ]
     },
     "execution_count": 66,
     "metadata": {},
     "output_type": "execute_result"
    }
   ],
   "source": [
    "downs"
   ]
  },
  {
   "cell_type": "code",
   "execution_count": 39,
   "id": "5f6b9b77",
   "metadata": {},
   "outputs": [],
   "source": [
    "import operator"
   ]
  },
  {
   "cell_type": "code",
   "execution_count": 52,
   "id": "c03f9dbe",
   "metadata": {},
   "outputs": [
    {
     "data": {
      "text/plain": [
       "-0.18181818181818188"
      ]
     },
     "execution_count": 52,
     "metadata": {},
     "output_type": "execute_result"
    }
   ],
   "source": [
    "0.9/1.1-1"
   ]
  },
  {
   "cell_type": "code",
   "execution_count": 55,
   "id": "4563bd6d",
   "metadata": {},
   "outputs": [
    {
     "data": {
      "text/plain": [
       "[-0.20000000000000007, -0.050000000000000044, -0.30000000000000004]"
      ]
     },
     "execution_count": 55,
     "metadata": {},
     "output_type": "execute_result"
    }
   ],
   "source": [
    "list(filter(lambda x: x < 0,ret))"
   ]
  },
  {
   "cell_type": "code",
   "execution_count": 54,
   "id": "bdc1cf5e",
   "metadata": {},
   "outputs": [
    {
     "name": "stderr",
     "output_type": "stream",
     "text": [
      "<ipython-input-54-51205f80bc76>:1: DeprecationWarning: NotImplemented should not be used in a boolean context\n",
      "  list(filter((0).__gt__,ret))\n"
     ]
    },
    {
     "data": {
      "text/plain": [
       "[-0.20000000000000007,\n",
       " 0.09999999999999998,\n",
       " 0.050000000000000044,\n",
       " 0.1499999999999999,\n",
       " -0.050000000000000044,\n",
       " 0.15000000000000013,\n",
       " -0.30000000000000004,\n",
       " 0.10000000000000009,\n",
       " 0.04999999999999982]"
      ]
     },
     "execution_count": 54,
     "metadata": {},
     "output_type": "execute_result"
    }
   ],
   "source": [
    "list(filter((0).__gt__,ret))"
   ]
  },
  {
   "cell_type": "code",
   "execution_count": null,
   "id": "75a6bce3",
   "metadata": {},
   "outputs": [],
   "source": []
  },
  {
   "cell_type": "code",
   "execution_count": null,
   "id": "c5c455b3",
   "metadata": {},
   "outputs": [],
   "source": []
  },
  {
   "cell_type": "code",
   "execution_count": 11,
   "id": "892573b3",
   "metadata": {},
   "outputs": [],
   "source": [
    " class Base(object):\n",
    "        def __init__(self):\n",
    "            self.basis = None"
   ]
  },
  {
   "cell_type": "code",
   "execution_count": 12,
   "id": "eea8c6f7",
   "metadata": {},
   "outputs": [],
   "source": [
    "class SubBase(Base):\n",
    "    pass\n",
    "\n",
    "class SubSub(SubBase):\n",
    "    pass"
   ]
  },
  {
   "cell_type": "code",
   "execution_count": 13,
   "id": "7ef68610",
   "metadata": {},
   "outputs": [],
   "source": [
    "subsub = SubSub"
   ]
  },
  {
   "cell_type": "code",
   "execution_count": 14,
   "id": "d13ab4ee",
   "metadata": {},
   "outputs": [
    {
     "name": "stdout",
     "output_type": "stream",
     "text": [
      "SubBase\n"
     ]
    }
   ],
   "source": [
    "for b in subsub.__bases__:\n",
    "    print(b.__name__)"
   ]
  },
  {
   "cell_type": "code",
   "execution_count": 15,
   "id": "945d6998",
   "metadata": {},
   "outputs": [],
   "source": [
    "b = Base()"
   ]
  },
  {
   "cell_type": "code",
   "execution_count": 16,
   "id": "6404dc7a",
   "metadata": {},
   "outputs": [],
   "source": [
    "b.basis"
   ]
  },
  {
   "cell_type": "code",
   "execution_count": 18,
   "id": "8acf8887",
   "metadata": {},
   "outputs": [
    {
     "data": {
      "text/plain": [
       "True"
      ]
     },
     "execution_count": 18,
     "metadata": {},
     "output_type": "execute_result"
    }
   ],
   "source": [
    "hasattr(b, 'basis')"
   ]
  },
  {
   "cell_type": "code",
   "execution_count": null,
   "id": "8c155a09",
   "metadata": {},
   "outputs": [],
   "source": []
  },
  {
   "cell_type": "code",
   "execution_count": null,
   "id": "99dfaeb8",
   "metadata": {},
   "outputs": [],
   "source": []
  },
  {
   "cell_type": "code",
   "execution_count": null,
   "id": "a32443da",
   "metadata": {},
   "outputs": [],
   "source": [
    "class Data:\n",
    "    def __init__(self, values):\n",
    "        "
   ]
  },
  {
   "cell_type": "code",
   "execution_count": 20,
   "id": "7b27f033",
   "metadata": {},
   "outputs": [
    {
     "ename": "SyntaxError",
     "evalue": "invalid syntax (1679969204.py, line 75)",
     "output_type": "error",
     "traceback": [
      "\u001b[1;36m  Input \u001b[1;32mIn [20]\u001b[1;36m\u001b[0m\n\u001b[1;33m    for underlying_code\u001b[0m\n\u001b[1;37m                       ^\u001b[0m\n\u001b[1;31mSyntaxError\u001b[0m\u001b[1;31m:\u001b[0m invalid syntax\n"
     ]
    }
   ],
   "source": [
    "class HoldingDiscount(TradeStrategy):\n",
    "    \n",
    "    def __init__(self):\n",
    "        super().add_indicators(Zscore, \"zscore_1y\")\n",
    "    \n",
    "    def compute_signal(self, quote:Quote):\n",
    "        spread = Quote.close\n",
    "        # getattr(quote, frequency)\n",
    "        if spread < getattr(quote, \"zscore_1y\"):\n",
    "            # buy\n",
    "            return 1\n",
    "            \n",
    "    \n",
    "    def update(self, ts:datetime, data:List[Quote]):\n",
    "        # data: list des quotes de univers a date ts\n",
    "        last_ts = self._calendar[bisect_left(self._calendar, ts)-1]\n",
    "        for quote in data:\n",
    "            # check ouverture de trade\n",
    "            signal = compute_signal(quote)\n",
    "            self._signal_by_pk[key] = signal\n",
    "            last_signal = self._signal_by_pk.get((self.strategy_code, self.quote.symbol, last_ts))\n",
    "            #TODO: \n",
    "            if signal in (1, -1) and signal!=last_signal:\n",
    "#                 and available_capital>nominal:\n",
    "                if signal==1:\n",
    "                    trade = self.long(quote) \n",
    "                elif signal==-1:\n",
    "                    trade = self.short(quote)\n",
    "                else:\n",
    "                    trade = None\n",
    "                    continue\n",
    "                key = (self.strategy_code, quote.symbol)\n",
    "                self._trade_by_pk[key].append(trade)\n",
    "            elif signal==last_signal:\n",
    "                continue\n",
    "                \n",
    "    \n",
    "    def _update_strategy(self, ts:datetime):\n",
    "        data = []\n",
    "        # on calcule l'exposition avec les valeurs de la VEILLE\n",
    "        prec_ts = self._calendar[bisect_left(self._calendar, ts)-1]\n",
    "        for underlying_code in self._universe:\n",
    "            data.append(self._quote_by_pk.get(\n",
    "                (underlying_code, prec_ts)))\n",
    "        return self._strategy.update(ts, data)\n",
    "    \n",
    "    def _compute_perf(self, ts:datetime)->float:\n",
    "        # a mettre dans strategy comme differentes methodes de calc entre weightstrat et tradestrat\n",
    "        trades = self._strategy.get_trades()\n",
    "        pnl = 0.\n",
    "        \n",
    "        for trade in trades:\n",
    "            if trade.active:\n",
    "                curr_quote = self._quote_by_pk.get((trade.underlying_code, ts))\n",
    "                entry_quote = self._quote_by_pk.get((trade.underlying_code, trade.entry_ts))\n",
    "                trade.performance = curr_quote/entry_quote -1\n",
    "                pnl += trade.pnl\n",
    "            else:\n",
    "                pnl += trade.pnl\n",
    "        \n",
    "        return pnl\n",
    "            \n",
    "    def _compute_levels(self):\n",
    "        for ts in self._calendar:\n",
    "            if ts == self._config.start_ts:\n",
    "                level = Quote(close=self.config.basis, ts=ts)\n",
    "                self._level_by_ts[ts] = level\n",
    "            else:\n",
    "                pnl = self._strategy.compute_perf(ts)\n",
    "                level = Quote(close=pnl, ts=ts)\n",
    "                self._level_by_ts[ts]=level\n",
    "                \n",
    "#         return list(self._level_by_ts.values())\n",
    "        \n",
    "        for underlying_code\n",
    "        \n",
    "        "
   ]
  },
  {
   "cell_type": "code",
   "execution_count": null,
   "id": "19a78c4d",
   "metadata": {},
   "outputs": [],
   "source": []
  }
 ],
 "metadata": {
  "kernelspec": {
   "display_name": "Python 3 (ipykernel)",
   "language": "python",
   "name": "python3"
  },
  "language_info": {
   "codemirror_mode": {
    "name": "ipython",
    "version": 3
   },
   "file_extension": ".py",
   "mimetype": "text/x-python",
   "name": "python",
   "nbconvert_exporter": "python",
   "pygments_lexer": "ipython3",
   "version": "3.10.1"
  },
  "toc": {
   "base_numbering": 1,
   "nav_menu": {},
   "number_sections": true,
   "sideBar": true,
   "skip_h1_title": false,
   "title_cell": "Table of Contents",
   "title_sidebar": "Contents",
   "toc_cell": false,
   "toc_position": {},
   "toc_section_display": true,
   "toc_window_display": false
  }
 },
 "nbformat": 4,
 "nbformat_minor": 5
}
